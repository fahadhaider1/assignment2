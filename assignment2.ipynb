{
  "nbformat": 4,
  "nbformat_minor": 0,
  "metadata": {
    "colab": {
      "provenance": []
    },
    "kernelspec": {
      "name": "python3",
      "display_name": "Python 3"
    },
    "language_info": {
      "name": "python"
    }
  },
  "cells": [
    {
      "cell_type": "code",
      "execution_count": 1,
      "metadata": {
        "id": "yZk-7sAWw5vu"
      },
      "outputs": [],
      "source": [
        "s=\"pwskills\""
      ]
    },
    {
      "cell_type": "code",
      "source": [
        "s[::-1]"
      ],
      "metadata": {
        "colab": {
          "base_uri": "https://localhost:8080/",
          "height": 35
        },
        "id": "KoQ4yDB0xuKl",
        "outputId": "3f457a3c-6809-44d5-ff96-cfafbee1ceb8"
      },
      "execution_count": 2,
      "outputs": [
        {
          "output_type": "execute_result",
          "data": {
            "text/plain": [
              "'sllikswp'"
            ],
            "application/vnd.google.colaboratory.intrinsic+json": {
              "type": "string"
            }
          },
          "metadata": {},
          "execution_count": 2
        }
      ]
    },
    {
      "cell_type": "code",
      "source": [
        "def is_palindrome(s):\n",
        " return s==s[::-1]\n",
        "print(is_palindrome(\"radar\"))"
      ],
      "metadata": {
        "colab": {
          "base_uri": "https://localhost:8080/"
        },
        "id": "0_5Wr8VC0Tmj",
        "outputId": "f4621f7a-bca0-4c1b-98e1-468398145f8c"
      },
      "execution_count": 22,
      "outputs": [
        {
          "output_type": "stream",
          "name": "stdout",
          "text": [
            "True\n"
          ]
        }
      ]
    },
    {
      "cell_type": "code",
      "source": [
        "m=\"pwskills\"\n",
        "m.upper()"
      ],
      "metadata": {
        "colab": {
          "base_uri": "https://localhost:8080/",
          "height": 35
        },
        "id": "qEbynmb92BXx",
        "outputId": "47e89fd6-cb8a-43ca-eb30-537e7abe3385"
      },
      "execution_count": 19,
      "outputs": [
        {
          "output_type": "execute_result",
          "data": {
            "text/plain": [
              "'PWSKILLS'"
            ],
            "application/vnd.google.colaboratory.intrinsic+json": {
              "type": "string"
            }
          },
          "metadata": {},
          "execution_count": 19
        }
      ]
    },
    {
      "cell_type": "code",
      "source": [
        "t=\"pwskills\"\n",
        "t.lower()"
      ],
      "metadata": {
        "colab": {
          "base_uri": "https://localhost:8080/",
          "height": 35
        },
        "id": "GrrQjd_f2sJk",
        "outputId": "666f4421-4a93-4a77-984b-ca5826eff8e1"
      },
      "execution_count": 20,
      "outputs": [
        {
          "output_type": "execute_result",
          "data": {
            "text/plain": [
              "'pwskills'"
            ],
            "application/vnd.google.colaboratory.intrinsic+json": {
              "type": "string"
            }
          },
          "metadata": {},
          "execution_count": 20
        }
      ]
    },
    {
      "cell_type": "code",
      "source": [
        "def count_vowels(s):\n",
        "   vowels=\"aeiouAEIOU\"\n",
        "   count=0\n",
        "   for char in s:\n",
        "    if char in vowels:\n",
        "      count+=1\n",
        "      return count\n",
        "sen=input(\"enter a sentence \")\n",
        "print(\"count number of vowels\",count_vowels(sen))"
      ],
      "metadata": {
        "colab": {
          "base_uri": "https://localhost:8080/"
        },
        "id": "xX8akLFQ2z6p",
        "outputId": "009e1ac9-362c-485e-9f54-6535bd41e870"
      },
      "execution_count": 41,
      "outputs": [
        {
          "output_type": "stream",
          "name": "stdout",
          "text": [
            "enter a sentence pwskills\n",
            "count number of vowels 1\n"
          ]
        }
      ]
    },
    {
      "cell_type": "code",
      "source": [
        "def count_consonants(s):\n",
        "    vowels = \"aeiouAEIOU\"\n",
        "    count = 0\n",
        "    for char in s:\n",
        "        if char.isalpha() and char not in vowels:\n",
        "            count += 1\n",
        "    return count\n",
        "sentence = input(\"Enter a sentence: \")\n",
        "print(\"Number of consonants in the sentence:\", count_consonants(sentence))"
      ],
      "metadata": {
        "colab": {
          "base_uri": "https://localhost:8080/"
        },
        "id": "GWUGWBzm-lpP",
        "outputId": "1e7b356f-c2fe-47d0-8f29-f7c808a94bdc"
      },
      "execution_count": 55,
      "outputs": [
        {
          "output_type": "stream",
          "name": "stdout",
          "text": [
            "Enter a sentence: pwskills\n",
            "Number of consonants in the sentence: 7\n"
          ]
        }
      ]
    },
    {
      "cell_type": "code",
      "source": [
        "s=\"hello, world\"\n",
        "s.replace(\" \",\"\")"
      ],
      "metadata": {
        "colab": {
          "base_uri": "https://localhost:8080/",
          "height": 35
        },
        "id": "Dt6EVusUBIGs",
        "outputId": "b95fdaf1-9f01-4df7-b130-9c40beb47f70"
      },
      "execution_count": 3,
      "outputs": [
        {
          "output_type": "execute_result",
          "data": {
            "text/plain": [
              "'hello,world'"
            ],
            "application/vnd.google.colaboratory.intrinsic+json": {
              "type": "string"
            }
          },
          "metadata": {},
          "execution_count": 3
        }
      ]
    },
    {
      "cell_type": "code",
      "source": [
        "def string_length(s):\n",
        "  count=0\n",
        "  for char in s:\n",
        "    count+1\n",
        "    return count\n",
        "sen=input(\"enter a sentence\")\n",
        "print(\"Length of the string is:\", string_length(sen))"
      ],
      "metadata": {
        "colab": {
          "base_uri": "https://localhost:8080/"
        },
        "id": "1uzH3f0RDPDv",
        "outputId": "cc442436-523e-44a8-a0d7-c71288c465d9"
      },
      "execution_count": 72,
      "outputs": [
        {
          "output_type": "stream",
          "name": "stdout",
          "text": [
            "enter a sentencepwskills\n",
            "Length of the string is: 0\n"
          ]
        }
      ]
    },
    {
      "cell_type": "code",
      "source": [
        "def contains_word(s, word):\n",
        "    return s.find(word) != -1"
      ],
      "metadata": {
        "id": "OMygWg5pPxLC"
      },
      "execution_count": 2,
      "outputs": []
    },
    {
      "cell_type": "code",
      "source": [
        "def replace_word(s, old_word, new_word):\n",
        "    return s.replace(old_word, new_word)\n",
        "s = \"Hello, World!\"\n",
        "old_word = \"World\"\n",
        "new_word = \"Universe\"\n",
        "print(\"Modified string:\", replace_word(s, old_word, new_word))\n"
      ],
      "metadata": {
        "colab": {
          "base_uri": "https://localhost:8080/"
        },
        "id": "fWFtcU90hhmJ",
        "outputId": "d5ac128f-21a0-40b3-f654-9b83508710dc"
      },
      "execution_count": 10,
      "outputs": [
        {
          "output_type": "stream",
          "name": "stdout",
          "text": [
            "Modified string: Hello, Universe!\n"
          ]
        }
      ]
    },
    {
      "cell_type": "code",
      "source": [
        "s=\"pwskills\"\n",
        "s.count('l')"
      ],
      "metadata": {
        "colab": {
          "base_uri": "https://localhost:8080/"
        },
        "id": "Ro9qDybrhtR7",
        "outputId": "a06498e2-2fce-4435-c3b4-652b0ccc0ec2"
      },
      "execution_count": 13,
      "outputs": [
        {
          "output_type": "execute_result",
          "data": {
            "text/plain": [
              "2"
            ]
          },
          "metadata": {},
          "execution_count": 13
        }
      ]
    },
    {
      "cell_type": "code",
      "source": [
        "s=\"new world order created by someone\"\n",
        "words=\"world\"\n",
        "first_occurrence=s.find(words)\n",
        "print(\"first occurrence words\",first_occurrence)\n"
      ],
      "metadata": {
        "colab": {
          "base_uri": "https://localhost:8080/"
        },
        "id": "obO8yrsrjzEZ",
        "outputId": "50b076c6-74de-487f-b441-6b2d192aa08e"
      },
      "execution_count": 18,
      "outputs": [
        {
          "output_type": "stream",
          "name": "stdout",
          "text": [
            "first occurrence words 4\n"
          ]
        }
      ]
    },
    {
      "cell_type": "code",
      "source": [
        "s=\"new world order\"\n",
        "words=\"order\"\n",
        "last_occurrence=s.find(words)\n",
        "print(\"last world occurrence\",last_occurrence)"
      ],
      "metadata": {
        "colab": {
          "base_uri": "https://localhost:8080/"
        },
        "id": "7ZkdeWnFoCe_",
        "outputId": "f55c93e7-b323-4d47-f879-e02593703107"
      },
      "execution_count": 21,
      "outputs": [
        {
          "output_type": "stream",
          "name": "stdout",
          "text": [
            "last world occurrence 10\n"
          ]
        }
      ]
    },
    {
      "cell_type": "code",
      "source": [
        "sentence=\"never advice any one until they ask\"\n",
        "words=sentence.split()\n",
        "print(words)"
      ],
      "metadata": {
        "colab": {
          "base_uri": "https://localhost:8080/"
        },
        "id": "MGtdqAbapSbN",
        "outputId": "51b7e448-d04e-4942-fdd5-4424c3712fec"
      },
      "execution_count": 23,
      "outputs": [
        {
          "output_type": "stream",
          "name": "stdout",
          "text": [
            "['never', 'advice', 'any', 'one', 'until', 'they', 'ask']\n"
          ]
        }
      ]
    },
    {
      "cell_type": "code",
      "source": [
        "words = ['These', 'are', 'words']\n",
        "sentence = ' '.join(words)\n",
        "print(sentence)\n"
      ],
      "metadata": {
        "colab": {
          "base_uri": "https://localhost:8080/"
        },
        "id": "6NC_F96tpu5W",
        "outputId": "4249fb27-ec89-4684-8ed8-ebb0c5c4680d"
      },
      "execution_count": 24,
      "outputs": [
        {
          "output_type": "stream",
          "name": "stdout",
          "text": [
            "These are words\n"
          ]
        }
      ]
    },
    {
      "cell_type": "code",
      "source": [
        "s=\"create big thing in your life\"\n",
        "s.replace(\"\",\"_\")"
      ],
      "metadata": {
        "colab": {
          "base_uri": "https://localhost:8080/",
          "height": 35
        },
        "id": "oatqtFgGs5EP",
        "outputId": "b0bed884-932d-4a92-d03e-bb1bce77829b"
      },
      "execution_count": 27,
      "outputs": [
        {
          "output_type": "execute_result",
          "data": {
            "text/plain": [
              "'_c_r_e_a_t_e_ _b_i_g_ _t_h_i_n_g_ _i_n_ _y_o_u_r_ _l_i_f_e_'"
            ],
            "application/vnd.google.colaboratory.intrinsic+json": {
              "type": "string"
            }
          },
          "metadata": {},
          "execution_count": 27
        }
      ]
    },
    {
      "cell_type": "code",
      "source": [
        "s = \"Hello, World!\"\n",
        "word = \"Hello\"\n",
        "starts_with_word = s.startswith(word)\n",
        "print(\"The string starts with the word:\", starts_with_word)\n",
        "\n"
      ],
      "metadata": {
        "colab": {
          "base_uri": "https://localhost:8080/"
        },
        "id": "noiDav9UtM6J",
        "outputId": "32fa82c3-ffed-438f-84e9-f686bb1bcff7"
      },
      "execution_count": 1,
      "outputs": [
        {
          "output_type": "stream",
          "name": "stdout",
          "text": [
            "The string starts with the word: True\n"
          ]
        }
      ]
    },
    {
      "cell_type": "code",
      "source": [
        "s = \"Hello, World!\"\n",
        "word = \"World!\"\n",
        "ends_with_word = s.endswith(word)\n",
        "print(\"The string ends with the word:\", ends_with_word)\n"
      ],
      "metadata": {
        "colab": {
          "base_uri": "https://localhost:8080/"
        },
        "id": "QaWgV9DfcY64",
        "outputId": "43b7f751-95d8-415b-9f6a-59a5bf4e9c7b"
      },
      "execution_count": 5,
      "outputs": [
        {
          "output_type": "stream",
          "name": "stdout",
          "text": [
            "The string ends with the word: True\n"
          ]
        }
      ]
    },
    {
      "cell_type": "code",
      "source": [
        "s=\"hello world\"\n",
        "s.title()"
      ],
      "metadata": {
        "colab": {
          "base_uri": "https://localhost:8080/",
          "height": 35
        },
        "id": "r-w8QBh0c63L",
        "outputId": "b6b864bb-2586-49fc-dd04-2acc88a1351c"
      },
      "execution_count": 7,
      "outputs": [
        {
          "output_type": "execute_result",
          "data": {
            "text/plain": [
              "'Hello World'"
            ],
            "application/vnd.google.colaboratory.intrinsic+json": {
              "type": "string"
            }
          },
          "metadata": {},
          "execution_count": 7
        }
      ]
    },
    {
      "cell_type": "code",
      "source": [
        "def find_longest_word(s):\n",
        "    words = s.split()\n",
        "    longest_word = max(words, key=len)\n",
        "    return longest_word\n",
        "\n",
        "s = \"The quick brown fox jumps over the lazy dog\"\n",
        "longest_word = find_longest_word(s)\n",
        "print(\"The longest word is:\", longest_word)\n"
      ],
      "metadata": {
        "colab": {
          "base_uri": "https://localhost:8080/"
        },
        "id": "irPfJz6afnSp",
        "outputId": "74104d08-5306-451a-851e-ae76061daf1d"
      },
      "execution_count": 13,
      "outputs": [
        {
          "output_type": "stream",
          "name": "stdout",
          "text": [
            "The longest word is: quick\n"
          ]
        }
      ]
    },
    {
      "cell_type": "code",
      "source": [
        "def find_shortest_word(s):\n",
        "    words = s.split()\n",
        "    shortest_word = min(words, key=len)\n",
        "    return shortest_word\n",
        "\n",
        "s = \"The quick brown fox jumps over the lazy dog\"\n",
        "shortest_word = find_shortest_word(s)\n",
        "print(\"The shortest word is:\", shortest_word)\n",
        "\n"
      ],
      "metadata": {
        "colab": {
          "base_uri": "https://localhost:8080/"
        },
        "id": "m1bJkSoCg7ih",
        "outputId": "89391ac5-db43-4f99-f6d5-6f2c198f79d4"
      },
      "execution_count": 14,
      "outputs": [
        {
          "output_type": "stream",
          "name": "stdout",
          "text": [
            "The shortest word is: The\n"
          ]
        }
      ]
    },
    {
      "cell_type": "code",
      "source": [
        "s=\"never advice anyone until they ask\"\n",
        "s[::-1]"
      ],
      "metadata": {
        "colab": {
          "base_uri": "https://localhost:8080/",
          "height": 35
        },
        "id": "mDraiFbNjE5M",
        "outputId": "1c2514a4-8c0c-4206-c040-562f5c81fa59"
      },
      "execution_count": 15,
      "outputs": [
        {
          "output_type": "execute_result",
          "data": {
            "text/plain": [
              "'ksa yeht litnu enoyna ecivda reven'"
            ],
            "application/vnd.google.colaboratory.intrinsic+json": {
              "type": "string"
            }
          },
          "metadata": {},
          "execution_count": 15
        }
      ]
    },
    {
      "cell_type": "code",
      "source": [
        "s = \"Hello123\"\n",
        "is_alphanumeric = s.isalnum()\n",
        "print(\"The string is alphanumeric:\", is_alphanumeric)\n",
        "\n"
      ],
      "metadata": {
        "colab": {
          "base_uri": "https://localhost:8080/"
        },
        "id": "KoMRhn1XjQJN",
        "outputId": "af75ee32-f2a8-4a52-af79-f4cfb4fffc68"
      },
      "execution_count": 16,
      "outputs": [
        {
          "output_type": "stream",
          "name": "stdout",
          "text": [
            "The string is alphanumeric: True\n"
          ]
        }
      ]
    },
    {
      "cell_type": "code",
      "source": [
        "s = \"hello 12 hi 89\"\n",
        "digits = [int(char) for char in s if char.isdigit()]\n",
        "print(\"The extracted digits are:\", digits)\n"
      ],
      "metadata": {
        "colab": {
          "base_uri": "https://localhost:8080/"
        },
        "id": "ZMfkJUT4jcBL",
        "outputId": "8e222e76-2068-43a8-ecf7-7b3ef10abaa6"
      },
      "execution_count": 17,
      "outputs": [
        {
          "output_type": "stream",
          "name": "stdout",
          "text": [
            "The extracted digits are: [1, 2, 8, 9]\n"
          ]
        }
      ]
    },
    {
      "cell_type": "code",
      "source": [
        "s = \"hello 12 hi 89\"\n",
        "alphabets = [char for char in s if char.isalpha()]\n",
        "print(\"The extracted alphabets are:\", alphabets)\n"
      ],
      "metadata": {
        "colab": {
          "base_uri": "https://localhost:8080/"
        },
        "id": "qAPREAUxjrmZ",
        "outputId": "7a4a3558-c83b-483b-d16a-ff36f8d58814"
      },
      "execution_count": 21,
      "outputs": [
        {
          "output_type": "stream",
          "name": "stdout",
          "text": [
            "The extracted alphabets are: ['h', 'e', 'l', 'l', 'o', 'h', 'i']\n"
          ]
        }
      ]
    },
    {
      "cell_type": "code",
      "source": [
        "s = \"Hello, World!\"\n",
        "uppercase_count = sum(1 for char in s if char.isupper())\n",
        "print(\"The number of uppercase letters is:\", uppercase_count)\n",
        "\n"
      ],
      "metadata": {
        "colab": {
          "base_uri": "https://localhost:8080/"
        },
        "id": "v0Ka4IRXkZHp",
        "outputId": "70555967-3cfe-44c1-c1b3-468f30529f48"
      },
      "execution_count": 22,
      "outputs": [
        {
          "output_type": "stream",
          "name": "stdout",
          "text": [
            "The number of uppercase letters is: 2\n"
          ]
        }
      ]
    },
    {
      "cell_type": "code",
      "source": [
        "s = \"Hello, World!\"\n",
        "lowercase_count = sum(1 for char in s if char.islower())\n",
        "print(\"The number of uppercase letters is:\", lowercase_count)\n"
      ],
      "metadata": {
        "colab": {
          "base_uri": "https://localhost:8080/"
        },
        "id": "L-Te6-Y0k-8H",
        "outputId": "d8a18b56-7740-447c-bda2-27dbc9bc736f"
      },
      "execution_count": 23,
      "outputs": [
        {
          "output_type": "stream",
          "name": "stdout",
          "text": [
            "The number of uppercase letters is: 8\n"
          ]
        }
      ]
    },
    {
      "cell_type": "code",
      "source": [
        "s = \"Hello, World!\"\n",
        "swapped_case = s.swapcase()\n",
        "print(\"The swapped case string is:\", swapped_case)\n"
      ],
      "metadata": {
        "colab": {
          "base_uri": "https://localhost:8080/"
        },
        "id": "-DJlNv7olRQl",
        "outputId": "052a67ff-9c9c-4ba5-ef72-26e7a56400d0"
      },
      "execution_count": 24,
      "outputs": [
        {
          "output_type": "stream",
          "name": "stdout",
          "text": [
            "The swapped case string is: hELLO, wORLD!\n"
          ]
        }
      ]
    },
    {
      "cell_type": "code",
      "source": [
        "s = \"Hello, World! Hello\"\n",
        "word_to_remove = \"Hello\"\n",
        "new_string = s.replace(word_to_remove, \"\")"
      ],
      "metadata": {
        "id": "eWlFzQEXl8OQ"
      },
      "execution_count": 71,
      "outputs": []
    },
    {
      "cell_type": "code",
      "source": [
        "email = \"ankitrai326@gmail.com\"\n",
        "username = email.split(\"@\")[0]\n",
        "print(\"The username is:\", username)\n"
      ],
      "metadata": {
        "colab": {
          "base_uri": "https://localhost:8080/"
        },
        "id": "NqXAQWMNmyy1",
        "outputId": "bdf6764f-9afe-424d-a768-6802ac26efbb"
      },
      "execution_count": 39,
      "outputs": [
        {
          "output_type": "stream",
          "name": "stdout",
          "text": [
            "The username is: ankitrai326\n"
          ]
        }
      ]
    },
    {
      "cell_type": "code",
      "source": [
        "email = \"example@email.com\"\n",
        "domain = email.split(\"@\")[1]\n",
        "print(\"The domain name is:\", domain)\n"
      ],
      "metadata": {
        "colab": {
          "base_uri": "https://localhost:8080/"
        },
        "id": "ZqY1Xt5ep25R",
        "outputId": "521ae94a-b9f0-4814-8d36-b0892be6bc40"
      },
      "execution_count": 42,
      "outputs": [
        {
          "output_type": "stream",
          "name": "stdout",
          "text": [
            "The domain name is: email.com\n"
          ]
        }
      ]
    },
    {
      "cell_type": "code",
      "source": [
        "s = \"Hello   world   example\"\n",
        "s = s.replace(r'\\s+++', ' ')\n",
        "print(s)"
      ],
      "metadata": {
        "colab": {
          "base_uri": "https://localhost:8080/"
        },
        "id": "dfjsIqAusNmG",
        "outputId": "96b3e106-d078-4ccd-b35e-9c6c21422232"
      },
      "execution_count": 45,
      "outputs": [
        {
          "output_type": "stream",
          "name": "stdout",
          "text": [
            "Hello   world   example\n"
          ]
        }
      ]
    },
    {
      "cell_type": "code",
      "source": [
        "url_string = \"https//:www.google.com\"\n",
        "is_valid =('url_string')\n",
        "if is_valid:\n",
        "    print(\"Valid URL\")\n",
        "else:\n",
        "    print(\"Invalid URL\")"
      ],
      "metadata": {
        "colab": {
          "base_uri": "https://localhost:8080/"
        },
        "id": "9IuYQ4t2swoI",
        "outputId": "83211aa5-8343-45e5-e56a-cb56d313ee57"
      },
      "execution_count": 53,
      "outputs": [
        {
          "output_type": "stream",
          "name": "stdout",
          "text": [
            "Valid URL\n"
          ]
        }
      ]
    },
    {
      "cell_type": "code",
      "source": [
        "email=\"https//:example@gmail.com\"\n",
        "url=email.split('example'[0])\n",
        "print('url',url)"
      ],
      "metadata": {
        "colab": {
          "base_uri": "https://localhost:8080/"
        },
        "id": "QDZg03lv756i",
        "outputId": "61b87a3e-4d83-4259-d987-6ed97a5441e9"
      },
      "execution_count": 59,
      "outputs": [
        {
          "output_type": "stream",
          "name": "stdout",
          "text": [
            "url ['https//:', 'xampl', '@gmail.com']\n"
          ]
        }
      ]
    },
    {
      "cell_type": "code",
      "source": [
        "s = \"Hello, World!\"\n",
        "freq = {char: s.count(char) for char in set(s)}\n",
        "print(\"The frequency of each character is:\", freq)\n"
      ],
      "metadata": {
        "colab": {
          "base_uri": "https://localhost:8080/"
        },
        "id": "0yfHx1C4_OhH",
        "outputId": "b04f5644-da8d-4f1a-817b-7cfef38e3b9d"
      },
      "execution_count": 62,
      "outputs": [
        {
          "output_type": "stream",
          "name": "stdout",
          "text": [
            "The frequency of each character is: {'H': 1, 'e': 1, 'l': 3, 'o': 2, ',': 1, ' ': 1, 'W': 1, 'r': 1, 'd': 1, '!': 1}\n"
          ]
        }
      ]
    },
    {
      "cell_type": "code",
      "source": [
        "import re\n",
        "s = \"Hello, World!\"\n",
        "no_punct = re.sub(r'[^\\w\\s]', '', s)\n",
        "print(\"The string without punctuation is:\", no_punct)\n"
      ],
      "metadata": {
        "colab": {
          "base_uri": "https://localhost:8080/"
        },
        "id": "MpLRXCaLAERu",
        "outputId": "e4e93a58-35c2-487e-a2d2-7f2a487694b7"
      },
      "execution_count": 70,
      "outputs": [
        {
          "output_type": "stream",
          "name": "stdout",
          "text": [
            "The string without punctuation is: Hello World\n"
          ]
        }
      ]
    },
    {
      "cell_type": "code",
      "source": [
        "s = \"12345\"\n",
        "if s.isdigit():\n",
        "    print(\"The string contains only digits\")\n",
        "else:\n",
        "    print(\"The string contains non-digit characters\")"
      ],
      "metadata": {
        "colab": {
          "base_uri": "https://localhost:8080/"
        },
        "id": "v01BYVyRBXRX",
        "outputId": "1db8db34-79e4-48b1-fa41-eb57248ab846"
      },
      "execution_count": 72,
      "outputs": [
        {
          "output_type": "stream",
          "name": "stdout",
          "text": [
            "The string contains only digits\n"
          ]
        }
      ]
    },
    {
      "cell_type": "code",
      "source": [
        "s = \"hello\"\n",
        "if s.isalpha():\n",
        "    print(\"The string contains only alphabet\")\n",
        "else:\n",
        "    print(\"The string contains digit\")"
      ],
      "metadata": {
        "colab": {
          "base_uri": "https://localhost:8080/"
        },
        "id": "Y6ME0BXKEuP1",
        "outputId": "7adebbfc-08e1-42a2-f492-d765013f7683"
      },
      "execution_count": 75,
      "outputs": [
        {
          "output_type": "stream",
          "name": "stdout",
          "text": [
            "The string contains only alphabet\n"
          ]
        }
      ]
    },
    {
      "cell_type": "code",
      "source": [
        "s=\"pwskills\"\n",
        "list['pwskills']"
      ],
      "metadata": {
        "colab": {
          "base_uri": "https://localhost:8080/"
        },
        "id": "dUOiC6KFFA_J",
        "outputId": "ce2f9a6e-b500-4c4c-cfd0-3b23c5ed4e4f"
      },
      "execution_count": 78,
      "outputs": [
        {
          "output_type": "execute_result",
          "data": {
            "text/plain": [
              "list['pwskills']"
            ]
          },
          "metadata": {},
          "execution_count": 78
        }
      ]
    },
    {
      "cell_type": "code",
      "source": [
        "s1 = \"listen\"\n",
        "s2 = \"silent\"\n",
        "if sorted(s1) == sorted(s2):\n",
        "    print(\"The strings are anagrams\")\n",
        "else:\n",
        "    print(\"The strings are not anagrams\")\n"
      ],
      "metadata": {
        "colab": {
          "base_uri": "https://localhost:8080/"
        },
        "id": "wlmGLqmVFYi7",
        "outputId": "09f63396-4420-4a62-87c4-c4beec00985b"
      },
      "execution_count": 79,
      "outputs": [
        {
          "output_type": "stream",
          "name": "stdout",
          "text": [
            "The strings are anagrams\n"
          ]
        }
      ]
    },
    {
      "cell_type": "code",
      "source": [
        "def caesar_cipher(text, shift):\n",
        "    result = \"\"\n",
        "    for char in text:\n",
        "        if char.isalpha():\n",
        "            # Determine the appropriate case for the letter\n",
        "            base = ord('A') if char.isupper() else ord('a')\n",
        "            # Apply the shift and handle wrapping\n",
        "            result += chr((ord(char) - base + shift) % 26 + base)\n",
        "        else:\n",
        "            result += char  # Preserve non-alphabetic characters\n",
        "    return result\n",
        "\n",
        "# Example usage\n",
        "text = \"Hello, World!\"\n",
        "shift = 3\n",
        "encoded_text = caesar_cipher(text, shift)\n",
        "print(\"Encoded text:\", encoded_text)"
      ],
      "metadata": {
        "colab": {
          "base_uri": "https://localhost:8080/"
        },
        "id": "Wmgz4bJTGMW8",
        "outputId": "b6839e79-bc6f-4649-aa96-d09354d3f93a"
      },
      "execution_count": 82,
      "outputs": [
        {
          "output_type": "stream",
          "name": "stdout",
          "text": [
            "Encoded text: Khoor, Zruog!\n"
          ]
        }
      ]
    },
    {
      "cell_type": "code",
      "source": [
        "def caesar_cipher_decode(text, shift):\n",
        "    result = \"\"\n",
        "    for char in text:\n",
        "        if char.isalpha():\n",
        "            # Determine the appropriate case for the letter\n",
        "            base = ord('A') if char.isupper() else ord('a')\n",
        "            # Apply the reverse shift and handle wrapping\n",
        "            result += chr((ord(char) - base - shift) % 26 + base)\n",
        "        else:\n",
        "            result += char  # Preserve non-alphabetic characters\n",
        "    return result\n",
        "\n",
        "# Example usage\n",
        "encoded_text = \"Khoor, Zruog!\"\n",
        "shift = 3\n",
        "decoded_text = caesar_cipher_decode(encoded_text, shift)\n",
        "print(\"Decoded text:\", decoded_text)\n"
      ],
      "metadata": {
        "colab": {
          "base_uri": "https://localhost:8080/"
        },
        "id": "ZVHbmJjiIHu2",
        "outputId": "ee17ee2d-f56d-4dfb-eb87-bf603709b41a"
      },
      "execution_count": 83,
      "outputs": [
        {
          "output_type": "stream",
          "name": "stdout",
          "text": [
            "Decoded text: Hello, World!\n"
          ]
        }
      ]
    },
    {
      "cell_type": "code",
      "source": [
        "from collections import Counter\n",
        "def most_frequent_word(text):\n",
        "    words = text.split()\n",
        "    word_counts = Counter(words)\n",
        "    return word_counts.most_common(1)\n",
        "\n",
        "# Example usage\n",
        "text = \"The sun is shining, the weather is sweet, and the sun is shining, and so is my love for you.\"\n",
        "result = most_frequent_word(text)\n",
        "print(\"The most frequent word is:\", result[0][0])\n"
      ],
      "metadata": {
        "colab": {
          "base_uri": "https://localhost:8080/"
        },
        "id": "PseQ_RFYIunf",
        "outputId": "61af40bc-01cd-4608-abfe-5df0063c4ca6"
      },
      "execution_count": 88,
      "outputs": [
        {
          "output_type": "stream",
          "name": "stdout",
          "text": [
            "The most frequent word is: is\n"
          ]
        }
      ]
    },
    {
      "cell_type": "code",
      "source": [
        "def unique_words(text):\n",
        "    words = text.split()\n",
        "    return set(words)\n",
        "\n",
        "# Example usage\n",
        "text = \"The sun is shining, the weather is sweet, and the sun is shining, and so is my love for you.\"\n",
        "result = unique_words(text)\n",
        "print(\"The unique words are:\", result)"
      ],
      "metadata": {
        "colab": {
          "base_uri": "https://localhost:8080/"
        },
        "id": "NwFMSPV2JzAx",
        "outputId": "4cb9c51b-b38b-417c-8846-96ec007e2b3a"
      },
      "execution_count": 90,
      "outputs": [
        {
          "output_type": "stream",
          "name": "stdout",
          "text": [
            "The unique words are: {'and', 'sweet,', 'my', 'The', 'the', 'weather', 'sun', 'love', 'you.', 'is', 'shining,', 'for', 'so'}\n"
          ]
        }
      ]
    },
    {
      "cell_type": "code",
      "source": [
        "def syllables_words(text):\n",
        "    words = text.split()\n",
        "    return set(words)\n",
        "\n",
        "# Example usage\n",
        "text = \"The sun is shining, the weather is sweet, and the sun is shining, and so is my love for you.\"\n",
        "result = syllables_words(text)\n",
        "print(\"The unique words are:\", result)\n"
      ],
      "metadata": {
        "colab": {
          "base_uri": "https://localhost:8080/"
        },
        "id": "CRxcLuunLOWw",
        "outputId": "f323575e-2243-4b6c-d479-3eb4a6302d72"
      },
      "execution_count": 92,
      "outputs": [
        {
          "output_type": "stream",
          "name": "stdout",
          "text": [
            "The unique words are: {'and', 'sweet,', 'my', 'The', 'the', 'weather', 'sun', 'love', 'you.', 'is', 'shining,', 'for', 'so'}\n"
          ]
        }
      ]
    },
    {
      "cell_type": "code",
      "source": [
        "import re\n",
        "\n",
        "def has_special_char(s):\n",
        "    if re.search(r'[^A-Za-z0-9\\s]', s):\n",
        "        return True\n",
        "    else:\n",
        "        return False\n",
        "\n",
        "# Test the function\n",
        "s1 = \"Hello World\"\n",
        "s2 = \"Hello@World\"\n",
        "print(has_special_char(s1))\n",
        "print(has_special_char(s2))"
      ],
      "metadata": {
        "colab": {
          "base_uri": "https://localhost:8080/"
        },
        "id": "WCQ6xt5aOD1B",
        "outputId": "31ce211a-a684-41d5-ef90-ed8df88dbc3a"
      },
      "execution_count": 93,
      "outputs": [
        {
          "output_type": "stream",
          "name": "stdout",
          "text": [
            "False\n",
            "True\n"
          ]
        }
      ]
    },
    {
      "cell_type": "code",
      "source": [
        "my_list = list(range(1, 11))\n",
        "print(my_list)"
      ],
      "metadata": {
        "colab": {
          "base_uri": "https://localhost:8080/"
        },
        "id": "xZFXw3N8On7n",
        "outputId": "193eaacd-adcf-49a8-f8ba-0fabcb3330e5"
      },
      "execution_count": 94,
      "outputs": [
        {
          "output_type": "stream",
          "name": "stdout",
          "text": [
            "[1, 2, 3, 4, 5, 6, 7, 8, 9, 10]\n"
          ]
        }
      ]
    },
    {
      "cell_type": "code",
      "source": [
        "def length_of_list(lst):\n",
        "    count = 0\n",
        "    for _  in lst:\n",
        "        count += 1\n",
        "    return count\n",
        "\n",
        "# Example usage\n",
        "my_list = [1, 2, 3, 4, 5,6,7,8,9]\n",
        "length = length_of_list(my_list)\n",
        "print(\"The length of the list is:\", length)\n",
        "\n"
      ],
      "metadata": {
        "colab": {
          "base_uri": "https://localhost:8080/"
        },
        "id": "QdvfxsuoO7qv",
        "outputId": "1be423be-2565-4172-9d05-447c1512d2ef"
      },
      "execution_count": 97,
      "outputs": [
        {
          "output_type": "stream",
          "name": "stdout",
          "text": [
            "The length of the list is: 9\n"
          ]
        }
      ]
    },
    {
      "cell_type": "code",
      "source": [
        "s=[1,2,3,4,5]\n",
        "s.append(6)\n"
      ],
      "metadata": {
        "id": "Aw8DnSXESYGj"
      },
      "execution_count": 99,
      "outputs": []
    },
    {
      "cell_type": "code",
      "source": [
        "s"
      ],
      "metadata": {
        "colab": {
          "base_uri": "https://localhost:8080/"
        },
        "id": "jcOEEkCAS2Po",
        "outputId": "9a922163-d7c7-4567-898b-cef171180a21"
      },
      "execution_count": 100,
      "outputs": [
        {
          "output_type": "execute_result",
          "data": {
            "text/plain": [
              "[1, 2, 3, 4, 5, 6]"
            ]
          },
          "metadata": {},
          "execution_count": 100
        }
      ]
    },
    {
      "cell_type": "code",
      "source": [
        "s=[1,2,3,4,5]\n",
        "s.insert(5,6)"
      ],
      "metadata": {
        "id": "cToCtvALTT8S"
      },
      "execution_count": 105,
      "outputs": []
    },
    {
      "cell_type": "code",
      "source": [
        "s"
      ],
      "metadata": {
        "colab": {
          "base_uri": "https://localhost:8080/"
        },
        "id": "a3sHt_EkTiY2",
        "outputId": "17d75300-f6f4-464e-a3d9-e4d9adb3cf5c"
      },
      "execution_count": 106,
      "outputs": [
        {
          "output_type": "execute_result",
          "data": {
            "text/plain": [
              "[1, 2, 3, 4, 5, 6]"
            ]
          },
          "metadata": {},
          "execution_count": 106
        }
      ]
    },
    {
      "cell_type": "code",
      "source": [
        "my_list=[1,2,3,4,5,6]\n",
        "my_list.remove(3)\n",
        "print(my_list)"
      ],
      "metadata": {
        "colab": {
          "base_uri": "https://localhost:8080/"
        },
        "id": "YVlgUlpNT7K7",
        "outputId": "83ad43af-7178-4155-97ff-07201c40fe40"
      },
      "execution_count": 109,
      "outputs": [
        {
          "output_type": "stream",
          "name": "stdout",
          "text": [
            "[1, 2, 4, 5, 6]\n"
          ]
        }
      ]
    },
    {
      "cell_type": "code",
      "source": [
        "my_list = [1, 2, 3, 4, 5]\n",
        "index = 2\n",
        "removed_element = my_list.pop(index)\n",
        "print(my_list)\n",
        "print(\"Removed element:\", removed_element)"
      ],
      "metadata": {
        "colab": {
          "base_uri": "https://localhost:8080/"
        },
        "id": "kn_eLLSAld4e",
        "outputId": "a545f047-0e02-40c0-f5db-f55cc2fe38af"
      },
      "execution_count": 110,
      "outputs": [
        {
          "output_type": "stream",
          "name": "stdout",
          "text": [
            "[1, 2, 4, 5]\n",
            "Removed element: 3\n"
          ]
        }
      ]
    },
    {
      "cell_type": "code",
      "source": [
        "my_list = [1, 2, 3, 4, 5]\n",
        "if my_list.count(3) > 0:\n",
        "    print(\"3 exists in the list\")\n",
        "else:\n",
        "    print(\"3 does not exist in the list\")"
      ],
      "metadata": {
        "colab": {
          "base_uri": "https://localhost:8080/"
        },
        "id": "2waCFA0CwnGO",
        "outputId": "5ed645f9-6c69-49df-ba27-e77c51eea84d"
      },
      "execution_count": 111,
      "outputs": [
        {
          "output_type": "stream",
          "name": "stdout",
          "text": [
            "3 exists in the list\n"
          ]
        }
      ]
    },
    {
      "cell_type": "code",
      "source": [
        "my_list = [10, 20, 30, 20, 40, 50, 20]\n",
        "index = my_list.index(20)\n",
        "print(\"The index of the first occurrence of 20 is:\", index)\n"
      ],
      "metadata": {
        "colab": {
          "base_uri": "https://localhost:8080/"
        },
        "id": "XwJjSpGEw5_F",
        "outputId": "24043ca9-c7dd-4522-e84b-fa9c1eeddce4"
      },
      "execution_count": 1,
      "outputs": [
        {
          "output_type": "stream",
          "name": "stdout",
          "text": [
            "The index of the first occurrence of 20 is: 1\n"
          ]
        }
      ]
    },
    {
      "cell_type": "code",
      "source": [
        "my_list = [1, 2, 3, 4, 2, 2, 5]\n",
        "count = my_list.count(2)\n",
        "print(\"The count of 2 in the list is:\", count)\n"
      ],
      "metadata": {
        "colab": {
          "base_uri": "https://localhost:8080/"
        },
        "id": "9pQ1nJmA3GXs",
        "outputId": "b7066a0e-723f-497b-e13f-76cca0f48482"
      },
      "execution_count": 2,
      "outputs": [
        {
          "output_type": "stream",
          "name": "stdout",
          "text": [
            "The count of 2 in the list is: 3\n"
          ]
        }
      ]
    },
    {
      "cell_type": "code",
      "source": [
        "my_list = [1, 2, 3, 4, 5]\n",
        "my_list.reverse()\n",
        "print(my_list)\n"
      ],
      "metadata": {
        "colab": {
          "base_uri": "https://localhost:8080/"
        },
        "id": "wt0k1q3460YX",
        "outputId": "9c40d56a-a718-4d4b-97ea-712efeb690b6"
      },
      "execution_count": 3,
      "outputs": [
        {
          "output_type": "stream",
          "name": "stdout",
          "text": [
            "[5, 4, 3, 2, 1]\n"
          ]
        }
      ]
    },
    {
      "cell_type": "code",
      "source": [
        "my_list = [5, 3, 1, 4, 2]\n",
        "my_list.sort()\n",
        "print(my_list)\n"
      ],
      "metadata": {
        "colab": {
          "base_uri": "https://localhost:8080/"
        },
        "id": "Tv98WfSI6808",
        "outputId": "b3ddf97d-1bb4-4dd7-bfb0-854624fedf62"
      },
      "execution_count": 4,
      "outputs": [
        {
          "output_type": "stream",
          "name": "stdout",
          "text": [
            "[1, 2, 3, 4, 5]\n"
          ]
        }
      ]
    },
    {
      "cell_type": "code",
      "source": [
        "my_list=[1,3,4,2,8,7]\n",
        "my_list.sort(reverse=True)\n",
        "print(my_list)"
      ],
      "metadata": {
        "colab": {
          "base_uri": "https://localhost:8080/"
        },
        "id": "nD8oz-ni7GL7",
        "outputId": "fde29ed6-eca2-45c9-e5ab-c74609ce012f"
      },
      "execution_count": 8,
      "outputs": [
        {
          "output_type": "stream",
          "name": "stdout",
          "text": [
            "[8, 7, 4, 3, 2, 1]\n"
          ]
        }
      ]
    },
    {
      "cell_type": "code",
      "source": [
        "even_list = [i for i in range(2, 21) if i % 2 == 0]\n",
        "print(even_list)"
      ],
      "metadata": {
        "colab": {
          "base_uri": "https://localhost:8080/"
        },
        "id": "TWjZ_Wap7d6K",
        "outputId": "55520517-9ab1-4eca-e03a-c7d0dce30035"
      },
      "execution_count": 9,
      "outputs": [
        {
          "output_type": "stream",
          "name": "stdout",
          "text": [
            "[2, 4, 6, 8, 10, 12, 14, 16, 18, 20]\n"
          ]
        }
      ]
    },
    {
      "cell_type": "code",
      "source": [
        "odd_list=[i for i in range(3,21) if i % 3==0]\n",
        "print(odd_list)"
      ],
      "metadata": {
        "colab": {
          "base_uri": "https://localhost:8080/"
        },
        "id": "XLE0uFcF8C7a",
        "outputId": "47a12fb6-0a7d-4a02-b478-2a077f843031"
      },
      "execution_count": 10,
      "outputs": [
        {
          "output_type": "stream",
          "name": "stdout",
          "text": [
            "[3, 6, 9, 12, 15, 18]\n"
          ]
        }
      ]
    },
    {
      "cell_type": "code",
      "source": [
        "my_list = [1, 2, 3, 4, 5]\n",
        "total = sum(my_list)\n",
        "print(\"The sum of all elements in the list is:\", total)\n"
      ],
      "metadata": {
        "colab": {
          "base_uri": "https://localhost:8080/"
        },
        "id": "CTDLRSao8fqk",
        "outputId": "aa5b8c93-3b67-450b-fa1c-a91b46477cc0"
      },
      "execution_count": 11,
      "outputs": [
        {
          "output_type": "stream",
          "name": "stdout",
          "text": [
            "The sum of all elements in the list is: 15\n"
          ]
        }
      ]
    },
    {
      "cell_type": "code",
      "source": [
        "my_list=[1,2,3,4,5,6,7,8,9]\n",
        "total=max(my_list)\n",
        "print(\"the sum of all element in the list is:\",total)"
      ],
      "metadata": {
        "colab": {
          "base_uri": "https://localhost:8080/"
        },
        "id": "fgIsv6rN8p4S",
        "outputId": "1ed698e3-2e7d-420a-e403-16527bef43d5"
      },
      "execution_count": 13,
      "outputs": [
        {
          "output_type": "stream",
          "name": "stdout",
          "text": [
            "the sum of all element in the list is: 9\n"
          ]
        }
      ]
    },
    {
      "cell_type": "code",
      "source": [
        "my_list=[1,2,3,4,5,6,7,8,9]\n",
        "total=min(my_list)\n",
        "print(\"the min of all element:\",total)"
      ],
      "metadata": {
        "colab": {
          "base_uri": "https://localhost:8080/"
        },
        "id": "vv5U7TSZ9AxK",
        "outputId": "5568c46c-db54-4bcb-c4ea-775ef21fece1"
      },
      "execution_count": 14,
      "outputs": [
        {
          "output_type": "stream",
          "name": "stdout",
          "text": [
            "the min of all element: 1\n"
          ]
        }
      ]
    },
    {
      "cell_type": "code",
      "source": [
        "squares = [x**2 for x in range(1, 11)]\n",
        "print(squares)"
      ],
      "metadata": {
        "colab": {
          "base_uri": "https://localhost:8080/"
        },
        "id": "pMnQ0FzN9cAA",
        "outputId": "9e804cd0-512c-48ef-84e3-88fdfc5b7bff"
      },
      "execution_count": 15,
      "outputs": [
        {
          "output_type": "stream",
          "name": "stdout",
          "text": [
            "[1, 4, 9, 16, 25, 36, 49, 64, 81, 100]\n"
          ]
        }
      ]
    },
    {
      "cell_type": "code",
      "source": [
        "import random\n",
        "\n",
        "random_list = [random.random() for _ in range(10)]\n",
        "print(random_list)\n"
      ],
      "metadata": {
        "colab": {
          "base_uri": "https://localhost:8080/"
        },
        "id": "KfxC_mwe9o_K",
        "outputId": "bc535e7e-f196-4b90-dc6b-d7627e1d19c2"
      },
      "execution_count": 16,
      "outputs": [
        {
          "output_type": "stream",
          "name": "stdout",
          "text": [
            "[0.11071661101943953, 0.028872327815086085, 0.23066639651721166, 0.8225966384875112, 0.42752932032185464, 0.7845310977444849, 0.8268292841878061, 0.5592864275203222, 0.8588089912680091, 0.9442986567009277]\n"
          ]
        }
      ]
    },
    {
      "cell_type": "code",
      "source": [
        "my_list = [1, 2, 3, 2, 1, 4, 5, 4]\n",
        "unique_list = list(set(my_list))\n",
        "print(unique_list)"
      ],
      "metadata": {
        "colab": {
          "base_uri": "https://localhost:8080/"
        },
        "id": "NikOC4Fx96qV",
        "outputId": "7b906a86-0028-449b-fa68-a5136bea3567"
      },
      "execution_count": 19,
      "outputs": [
        {
          "output_type": "stream",
          "name": "stdout",
          "text": [
            "[1, 2, 3, 4, 5]\n"
          ]
        }
      ]
    },
    {
      "cell_type": "code",
      "source": [
        "list1=[1,2,3,9,8,4,7,88,99]\n",
        "list2=[1,2,3,4,5,88,99]\n",
        "common_element=list(set(list1) & set(list2))\n",
        "print(common_element)"
      ],
      "metadata": {
        "colab": {
          "base_uri": "https://localhost:8080/"
        },
        "id": "n0N_v362-VKy",
        "outputId": "88d0b2c9-d06a-470e-da2b-64680c3af33a"
      },
      "execution_count": 21,
      "outputs": [
        {
          "output_type": "stream",
          "name": "stdout",
          "text": [
            "[1, 2, 99, 3, 4, 88]\n"
          ]
        }
      ]
    },
    {
      "cell_type": "code",
      "source": [
        "list1 = [1, 2, 3, 4, 5]\n",
        "list2 = [3, 4, 5, 6, 7]\n",
        "difference = list(set(list1) - set(list2))\n",
        "print(difference)"
      ],
      "metadata": {
        "colab": {
          "base_uri": "https://localhost:8080/"
        },
        "id": "8gOjYRBv_SEW",
        "outputId": "ae546ad1-06f8-499b-e35c-f080957b8ccb"
      },
      "execution_count": 22,
      "outputs": [
        {
          "output_type": "stream",
          "name": "stdout",
          "text": [
            "[1, 2]\n"
          ]
        }
      ]
    },
    {
      "cell_type": "code",
      "source": [
        "list1=[1,2,3,4,5,6,7]\n",
        "list2=[1,2,3,4,5,6,7]\n",
        "list1+list2"
      ],
      "metadata": {
        "colab": {
          "base_uri": "https://localhost:8080/"
        },
        "id": "hY08-rQc_unn",
        "outputId": "f5292e63-11d6-41fa-94f2-287f8a30de50"
      },
      "execution_count": 23,
      "outputs": [
        {
          "output_type": "execute_result",
          "data": {
            "text/plain": [
              "[1, 2, 3, 4, 5, 6, 7, 1, 2, 3, 4, 5, 6, 7]"
            ]
          },
          "metadata": {},
          "execution_count": 23
        }
      ]
    },
    {
      "cell_type": "code",
      "source": [
        "my_list = [1, 2, 3, 4, 5]\n",
        "for i in range(len(my_list)):\n",
        "    my_list[i] *= 2\n",
        "print(my_list)"
      ],
      "metadata": {
        "colab": {
          "base_uri": "https://localhost:8080/"
        },
        "id": "XaCNo_pgBESo",
        "outputId": "b2eed5ca-3cf1-40ad-fbb8-a7996ba71318"
      },
      "execution_count": 24,
      "outputs": [
        {
          "output_type": "stream",
          "name": "stdout",
          "text": [
            "[2, 4, 6, 8, 10]\n"
          ]
        }
      ]
    },
    {
      "cell_type": "code",
      "source": [
        "my_list = [1, 2, 3, 4, 5, 6, 7, 8, 9, 10]\n",
        "new_list = []\n",
        "for i in my_list:\n",
        "    if i % 2 != 0:\n",
        "        new_list.append(i)\n",
        "print(new_list)"
      ],
      "metadata": {
        "colab": {
          "base_uri": "https://localhost:8080/"
        },
        "id": "3XX1G5n2Bg7R",
        "outputId": "3cd1b899-be9a-4685-cafe-6e1dbcb1dfb7"
      },
      "execution_count": 25,
      "outputs": [
        {
          "output_type": "stream",
          "name": "stdout",
          "text": [
            "[1, 3, 5, 7, 9]\n"
          ]
        }
      ]
    },
    {
      "cell_type": "code",
      "source": [
        "str_list = ['1', '2', '3']\n",
        "int_list = list(map(int, str_list))\n",
        "print(int_list)"
      ],
      "metadata": {
        "colab": {
          "base_uri": "https://localhost:8080/"
        },
        "id": "eBYF1V1_B0Ua",
        "outputId": "bfc44d26-71a8-4b33-ff1c-5a832ef47069"
      },
      "execution_count": 26,
      "outputs": [
        {
          "output_type": "stream",
          "name": "stdout",
          "text": [
            "[1, 2, 3]\n"
          ]
        }
      ]
    },
    {
      "cell_type": "code",
      "source": [
        "int_list=[1,2,3,4]\n",
        "str_list=list(map(str,int_list))\n",
        "print(str_list)"
      ],
      "metadata": {
        "colab": {
          "base_uri": "https://localhost:8080/"
        },
        "id": "mE5lDgBgCiHW",
        "outputId": "be45cd66-609c-40ce-c0e3-73db26e6c41a"
      },
      "execution_count": 27,
      "outputs": [
        {
          "output_type": "stream",
          "name": "stdout",
          "text": [
            "['1', '2', '3', '4']\n"
          ]
        }
      ]
    },
    {
      "cell_type": "code",
      "source": [
        "nested_list = [[1, 2, 3], [4, 5], [6, 7, 8, 9]]\n",
        "flat_list = []\n",
        "for sublist in nested_list:\n",
        "    for item in sublist:\n",
        "        flat_list.append(item)\n",
        "print(flat_list)"
      ],
      "metadata": {
        "colab": {
          "base_uri": "https://localhost:8080/"
        },
        "id": "8Z_aDF3zDLaC",
        "outputId": "25a74788-6d68-42a0-d823-5d198a8f6185"
      },
      "execution_count": 28,
      "outputs": [
        {
          "output_type": "stream",
          "name": "stdout",
          "text": [
            "[1, 2, 3, 4, 5, 6, 7, 8, 9]\n"
          ]
        }
      ]
    },
    {
      "cell_type": "code",
      "source": [
        "my_list = [1, 2, 3, 4, 5]\n",
        "is_sorted = True\n",
        "for i in range(len(my_list) - 1):\n",
        "    if my_list[i] > my_list[i + 1]:\n",
        "        is_sorted = False\n",
        "        break\n",
        "if is_sorted:\n",
        "    print(\"The list is sorted.\")\n",
        "else:\n",
        "    print(\"The list is not sorted.\")\n"
      ],
      "metadata": {
        "colab": {
          "base_uri": "https://localhost:8080/"
        },
        "id": "gI6PI9wBDeGq",
        "outputId": "bae8c13f-2d3f-4c4c-c8a9-639ca2123968"
      },
      "execution_count": 29,
      "outputs": [
        {
          "output_type": "stream",
          "name": "stdout",
          "text": [
            "The list is sorted.\n"
          ]
        }
      ]
    },
    {
      "cell_type": "code",
      "source": [
        "my_list = [1, 2, 3, 4, 5]\n",
        "n = 2\n",
        "rotated_list = my_list[n:] + my_list[:n]\n",
        "print(rotated_list)"
      ],
      "metadata": {
        "colab": {
          "base_uri": "https://localhost:8080/"
        },
        "id": "H3mPFVj_IiO7",
        "outputId": "99991991-75f4-454c-94f3-883e2a97c2e4"
      },
      "execution_count": 30,
      "outputs": [
        {
          "output_type": "stream",
          "name": "stdout",
          "text": [
            "[3, 4, 5, 1, 2]\n"
          ]
        }
      ]
    },
    {
      "cell_type": "code",
      "source": [
        "my_list = [1, 2, 3, 4, 5]\n",
        "n = 2\n",
        "rotated_list = my_list[:n] + my_list[n:]\n",
        "print(rotated_list)"
      ],
      "metadata": {
        "colab": {
          "base_uri": "https://localhost:8080/"
        },
        "id": "mDFhPuGCI20s",
        "outputId": "4b2834c4-1647-4a03-c653-1b64e16894a4"
      },
      "execution_count": 31,
      "outputs": [
        {
          "output_type": "stream",
          "name": "stdout",
          "text": [
            "[1, 2, 3, 4, 5]\n"
          ]
        }
      ]
    },
    {
      "cell_type": "code",
      "source": [
        "def is_prime(n):\n",
        "    if n < 2:\n",
        "        return False\n",
        "    for i in range(2, int(n**0.5) + 1):\n",
        "        if n % i == 0:\n",
        "            return False\n",
        "    return True\n",
        "\n",
        "prime_numbers = [i for i in range(2, 51) if is_prime(i)]\n",
        "print(prime_numbers)"
      ],
      "metadata": {
        "colab": {
          "base_uri": "https://localhost:8080/"
        },
        "id": "LhYJC2MpI-Xk",
        "outputId": "1339eaa8-0ae8-4651-d603-eefa0b8823d9"
      },
      "execution_count": 32,
      "outputs": [
        {
          "output_type": "stream",
          "name": "stdout",
          "text": [
            "[2, 3, 5, 7, 11, 13, 17, 19, 23, 29, 31, 37, 41, 43, 47]\n"
          ]
        }
      ]
    },
    {
      "cell_type": "code",
      "source": [
        "my_list = [1, 2, 3, 4, 5, 6, 7, 8, 9]\n",
        "n = 3\n",
        "chunks = []\n",
        "for i in range(0, len(my_list), n):\n",
        "    chunks.append(my_list[i:i + n])\n",
        "print(chunks)"
      ],
      "metadata": {
        "colab": {
          "base_uri": "https://localhost:8080/"
        },
        "id": "VHSz5t7dM7Ha",
        "outputId": "d5c76469-d09e-4572-e4a4-103f9e22090a"
      },
      "execution_count": 33,
      "outputs": [
        {
          "output_type": "stream",
          "name": "stdout",
          "text": [
            "[[1, 2, 3], [4, 5, 6], [7, 8, 9]]\n"
          ]
        }
      ]
    },
    {
      "cell_type": "code",
      "source": [
        "my_list = [1, 5, 3, 8, 2, 7, 4, 6, 9]\n",
        "sorted_list = sorted(my_list, reverse=True)\n",
        "second_largest = sorted_list[1]\n",
        "print(second_largest)"
      ],
      "metadata": {
        "colab": {
          "base_uri": "https://localhost:8080/"
        },
        "id": "lpSKvLK9OPlW",
        "outputId": "e4edf21a-72de-4b0c-d8d5-54515887d2f4"
      },
      "execution_count": 34,
      "outputs": [
        {
          "output_type": "stream",
          "name": "stdout",
          "text": [
            "8\n"
          ]
        }
      ]
    },
    {
      "cell_type": "code",
      "source": [
        "my_list = [1, 2, 3, 4, 5]\n",
        "my_list = [x**2 for x in my_list]\n",
        "print(my_list)\n"
      ],
      "metadata": {
        "colab": {
          "base_uri": "https://localhost:8080/"
        },
        "id": "YZudO1aVOhq3",
        "outputId": "93b35ce5-dd20-40c2-b051-382e4a9f0cb9"
      },
      "execution_count": 35,
      "outputs": [
        {
          "output_type": "stream",
          "name": "stdout",
          "text": [
            "[1, 4, 9, 16, 25]\n"
          ]
        }
      ]
    },
    {
      "cell_type": "code",
      "source": [
        "my_list = ['A', 'B', 'C']\n",
        "my_dict = {value: index for index, value in enumerate(my_list)}\n",
        "print(my_dict)"
      ],
      "metadata": {
        "colab": {
          "base_uri": "https://localhost:8080/"
        },
        "id": "8m_MJutXR5vm",
        "outputId": "912fdb4a-1bb8-4bfa-df19-083fa08487e3"
      },
      "execution_count": 36,
      "outputs": [
        {
          "output_type": "stream",
          "name": "stdout",
          "text": [
            "{'A': 0, 'B': 1, 'C': 2}\n"
          ]
        }
      ]
    },
    {
      "cell_type": "code",
      "source": [
        "import random\n",
        "\n",
        "my_list = [1, 2, 3, 4, 5]\n",
        "random.shuffle(my_list)\n",
        "print(my_list)"
      ],
      "metadata": {
        "colab": {
          "base_uri": "https://localhost:8080/"
        },
        "id": "0eMojNOTSH91",
        "outputId": "27c77483-134a-4bac-f0df-4332893f15cc"
      },
      "execution_count": 1,
      "outputs": [
        {
          "output_type": "stream",
          "name": "stdout",
          "text": [
            "[1, 3, 2, 4, 5]\n"
          ]
        }
      ]
    },
    {
      "cell_type": "code",
      "source": [
        "import math\n",
        "\n",
        "factorials = []\n",
        "for i in range(10):\n",
        "    factorials.append(math.factorial(i))\n",
        "print(factorials)"
      ],
      "metadata": {
        "colab": {
          "base_uri": "https://localhost:8080/"
        },
        "id": "P8b0bBDfHcjq",
        "outputId": "a3d81aa0-0fee-49ed-8825-ae75d1bee95d"
      },
      "execution_count": 2,
      "outputs": [
        {
          "output_type": "stream",
          "name": "stdout",
          "text": [
            "[1, 1, 2, 6, 24, 120, 720, 5040, 40320, 362880]\n"
          ]
        }
      ]
    },
    {
      "cell_type": "code",
      "source": [
        "list1 = [1, 2, 3, 4, 5]\n",
        "list2 = [5, 1,6, 7, 8, 9]\n",
        "if set(list1).intersection(list2):\n",
        "    print(\"The lists have at least one common element.\")\n",
        "else:\n",
        "    print(\"The lists do not have any common elements.\")"
      ],
      "metadata": {
        "colab": {
          "base_uri": "https://localhost:8080/"
        },
        "id": "QpXPqBGlHpHu",
        "outputId": "cc0eafeb-c5e3-4e72-bab4-0d1eeb2a5fd1"
      },
      "execution_count": 6,
      "outputs": [
        {
          "output_type": "stream",
          "name": "stdout",
          "text": [
            "The lists have at least one common element.\n"
          ]
        }
      ]
    },
    {
      "cell_type": "code",
      "source": [
        "my_list = [1, 2, 3, 4, 5]\n",
        "my_list.clear()\n",
        "print(my_list)"
      ],
      "metadata": {
        "colab": {
          "base_uri": "https://localhost:8080/"
        },
        "id": "LrxEAKLcH5DP",
        "outputId": "364a3da4-6d1f-4371-9c9f-7a13d709a0b5"
      },
      "execution_count": 7,
      "outputs": [
        {
          "output_type": "stream",
          "name": "stdout",
          "text": [
            "[]\n"
          ]
        }
      ]
    },
    {
      "cell_type": "code",
      "source": [
        "my_list = [-10, 1, 2, 3, 9, -1]\n",
        "my_list = [0 if x < 0 else x for x in my_list]\n",
        "print(my_list)"
      ],
      "metadata": {
        "colab": {
          "base_uri": "https://localhost:8080/"
        },
        "id": "wQn3-aFlIPR5",
        "outputId": "c0f830d9-485b-4427-b2c2-9f41d4e8993d"
      },
      "execution_count": 8,
      "outputs": [
        {
          "output_type": "stream",
          "name": "stdout",
          "text": [
            "[0, 1, 2, 3, 9, 0]\n"
          ]
        }
      ]
    },
    {
      "cell_type": "code",
      "source": [
        "my_string = \"This is a string, with words!\"\n",
        "my_list = my_string.split()\n",
        "print(my_list)"
      ],
      "metadata": {
        "colab": {
          "base_uri": "https://localhost:8080/"
        },
        "id": "VhHuxGeBIZma",
        "outputId": "ea5ecd84-ae1c-43e1-d668-45497ea492f5"
      },
      "execution_count": 9,
      "outputs": [
        {
          "output_type": "stream",
          "name": "stdout",
          "text": [
            "['This', 'is', 'a', 'string,', 'with', 'words!']\n"
          ]
        }
      ]
    },
    {
      "cell_type": "code",
      "source": [
        "my_list = ['This', 'is', 'a', 'string', 'with', 'words']\n",
        "my_string = ' '.join(my_list)\n",
        "print(my_string)"
      ],
      "metadata": {
        "colab": {
          "base_uri": "https://localhost:8080/"
        },
        "id": "tVSJ57GoIh8U",
        "outputId": "12535805-2f25-4a2e-adea-21863ddd2a2d"
      },
      "execution_count": 10,
      "outputs": [
        {
          "output_type": "stream",
          "name": "stdout",
          "text": [
            "This is a string with words\n"
          ]
        }
      ]
    },
    {
      "cell_type": "code",
      "source": [
        "n = 10\n",
        "powers_of_2 = []\n",
        "for i in range(n):\n",
        "    powers_of_2.append(pow(2, i))\n",
        "print(powers_of_2)"
      ],
      "metadata": {
        "colab": {
          "base_uri": "https://localhost:8080/"
        },
        "id": "1x1BSFgVIsKg",
        "outputId": "91e65b9c-297f-43a2-cfa2-ba14841ceabe"
      },
      "execution_count": 11,
      "outputs": [
        {
          "output_type": "stream",
          "name": "stdout",
          "text": [
            "[1, 2, 4, 8, 16, 32, 64, 128, 256, 512]\n"
          ]
        }
      ]
    },
    {
      "cell_type": "code",
      "source": [
        "my_list = ['cat', 'dog', 'shatter', 'donut', 'at', 'todo', '']\n",
        "longest_string = max(my_list, key=len)\n",
        "print(longest_string)"
      ],
      "metadata": {
        "colab": {
          "base_uri": "https://localhost:8080/"
        },
        "id": "chxZe2OkI9N5",
        "outputId": "0d3c533c-6027-40e6-b60d-00ce008721db"
      },
      "execution_count": 12,
      "outputs": [
        {
          "output_type": "stream",
          "name": "stdout",
          "text": [
            "shatter\n"
          ]
        }
      ]
    },
    {
      "cell_type": "code",
      "source": [
        "my_list = ['cat', 'dog', 'shatter', 'donut', 'at', 'todo', '']\n",
        "shortest_string = min(my_list, key=len)\n",
        "print(shortest_string)"
      ],
      "metadata": {
        "colab": {
          "base_uri": "https://localhost:8080/"
        },
        "id": "FXz0nHW9JLzC",
        "outputId": "fefe2693-8250-4c4c-c83d-5238b83dba62"
      },
      "execution_count": 14,
      "outputs": [
        {
          "output_type": "stream",
          "name": "stdout",
          "text": [
            "\n"
          ]
        }
      ]
    },
    {
      "cell_type": "code",
      "source": [
        "n = 10\n",
        "triangular_numbers = []\n",
        "for i in range(1, n+1):\n",
        "    triangular_numbers.append(i*(i+1)//2)\n",
        "print(triangular_numbers)"
      ],
      "metadata": {
        "colab": {
          "base_uri": "https://localhost:8080/"
        },
        "id": "MBlFbsMnJlwN",
        "outputId": "5be8b335-733c-40e9-d1d0-25d1ea7541d0"
      },
      "execution_count": 15,
      "outputs": [
        {
          "output_type": "stream",
          "name": "stdout",
          "text": [
            "[1, 3, 6, 10, 15, 21, 28, 36, 45, 55]\n"
          ]
        }
      ]
    },
    {
      "cell_type": "code",
      "source": [
        "def contains_subsequence(list1, list2):\n",
        "    set1 = set(list1)\n",
        "    set2 = set(list2)\n",
        "    if len(set1) > len(set2):\n",
        "        set1, set2 = set2, set1\n",
        "    for element in set1:\n",
        "        if set2.issubset(set1 - {element}):\n",
        "            return True\n",
        "    return False\n",
        "\n",
        "list1 = [1, 2, 3, 4, 5]\n",
        "list2 = [2, 3, 4]\n",
        "print(contains_subsequence(list1, list2))\n",
        "\n",
        "list1 = [1, 2, 3, 4, 5]\n",
        "list3 = [2, 3, 7]\n",
        "print(contains_subsequence(list1, list3))"
      ],
      "metadata": {
        "colab": {
          "base_uri": "https://localhost:8080/"
        },
        "id": "7VqB7OazJ3ky",
        "outputId": "ace45711-1cd0-4271-e6b9-8ee7eb3a8443"
      },
      "execution_count": 16,
      "outputs": [
        {
          "output_type": "stream",
          "name": "stdout",
          "text": [
            "False\n",
            "False\n"
          ]
        }
      ]
    },
    {
      "cell_type": "code",
      "source": [
        "def swap_elements(lst, i, j):\n",
        "    # Retrieve elements at indices i and j\n",
        "    element_i = lst[i]\n",
        "    element_j = lst[j]\n",
        "    # Swap the elements\n",
        "    lst[i] = element_j\n",
        "    lst[j] = element_i\n",
        "\n",
        "my_list = [1, 2, 3, 4, 5]\n",
        "swap_elements(my_list, 1, 3)\n",
        "print(my_list)"
      ],
      "metadata": {
        "colab": {
          "base_uri": "https://localhost:8080/"
        },
        "id": "9Rf39BZrKFCY",
        "outputId": "cce17b64-32bf-4e34-a9c6-09a9f785f8b6"
      },
      "execution_count": 17,
      "outputs": [
        {
          "output_type": "stream",
          "name": "stdout",
          "text": [
            "[1, 4, 3, 2, 5]\n"
          ]
        }
      ]
    },
    {
      "cell_type": "code",
      "source": [
        "my_tuple = (1, 2, 3, 4, 5)\n",
        "print(my_tuple)"
      ],
      "metadata": {
        "colab": {
          "base_uri": "https://localhost:8080/"
        },
        "id": "BM8KKln2KO6A",
        "outputId": "4d526c03-9b2b-439c-ef03-32ff036bda84"
      },
      "execution_count": 18,
      "outputs": [
        {
          "output_type": "stream",
          "name": "stdout",
          "text": [
            "(1, 2, 3, 4, 5)\n"
          ]
        }
      ]
    },
    {
      "cell_type": "code",
      "source": [
        "my_tuple = (1, 2, 3, 4, 5)\n",
        "third_element = my_tuple[2]\n",
        "print(third_element)"
      ],
      "metadata": {
        "colab": {
          "base_uri": "https://localhost:8080/"
        },
        "id": "Feknz9XNKrXI",
        "outputId": "73796896-a03f-4f17-de37-6bdf5a3aabdb"
      },
      "execution_count": 19,
      "outputs": [
        {
          "output_type": "stream",
          "name": "stdout",
          "text": [
            "3\n"
          ]
        }
      ]
    },
    {
      "cell_type": "code",
      "source": [
        "def find_tuple_length(tuple):\n",
        "    length = 0\n",
        "    for _ in tuple:\n",
        "        length += 1\n",
        "    return length\n",
        "\n",
        "my_tuple = (1, 2, 3, 4, 5)\n",
        "tuple_length = find_tuple_length(my_tuple)\n",
        "print(tuple_length)"
      ],
      "metadata": {
        "colab": {
          "base_uri": "https://localhost:8080/"
        },
        "id": "5j1BY-IhK1Et",
        "outputId": "3e9cd383-90e0-418a-e6ec-f7d34bd4ec03"
      },
      "execution_count": 20,
      "outputs": [
        {
          "output_type": "stream",
          "name": "stdout",
          "text": [
            "5\n"
          ]
        }
      ]
    },
    {
      "cell_type": "code",
      "source": [
        "my_tuple = (1, 2, 3, 4, 2, 2, 5)\n",
        "count = my_tuple.count(2)\n",
        "print(count)"
      ],
      "metadata": {
        "colab": {
          "base_uri": "https://localhost:8080/"
        },
        "id": "3XUhxLt7K-3b",
        "outputId": "5a0deb9e-2f7d-4976-ce43-f5411920d3cf"
      },
      "execution_count": 21,
      "outputs": [
        {
          "output_type": "stream",
          "name": "stdout",
          "text": [
            "3\n"
          ]
        }
      ]
    },
    {
      "cell_type": "code",
      "source": [
        "my_tuple = (1, 2, 3, 4, 2, 2, 5)\n",
        "index = my_tuple.index(2)\n",
        "print(index)"
      ],
      "metadata": {
        "colab": {
          "base_uri": "https://localhost:8080/"
        },
        "id": "FfVTAtLiLOh7",
        "outputId": "b9704c6c-bd3c-4425-f9d3-b99fab63528e"
      },
      "execution_count": 22,
      "outputs": [
        {
          "output_type": "stream",
          "name": "stdout",
          "text": [
            "1\n"
          ]
        }
      ]
    },
    {
      "cell_type": "code",
      "source": [
        "my_tuple = (1, 2, 3, 4, 5)\n",
        "if 3 in my_tuple:\n",
        "    print(\"Element 3 exists in the tuple\")\n",
        "else:\n",
        "    print(\"Element 3 does not exist in the tuple\")"
      ],
      "metadata": {
        "colab": {
          "base_uri": "https://localhost:8080/"
        },
        "id": "Occ3b8BKLeX3",
        "outputId": "3df5db53-1237-47f7-c29f-e9f2a8e2de86"
      },
      "execution_count": 23,
      "outputs": [
        {
          "output_type": "stream",
          "name": "stdout",
          "text": [
            "Element 3 exists in the tuple\n"
          ]
        }
      ]
    },
    {
      "cell_type": "code",
      "source": [
        "my_tuple = (1, 2, 3, 4, 5)\n",
        "my_list = list(my_tuple)\n",
        "print(my_list)"
      ],
      "metadata": {
        "colab": {
          "base_uri": "https://localhost:8080/"
        },
        "id": "p3dbG20LLokH",
        "outputId": "6f1cd542-ce62-4064-890e-9fef68dde774"
      },
      "execution_count": 25,
      "outputs": [
        {
          "output_type": "stream",
          "name": "stdout",
          "text": [
            "[1, 2, 3, 4, 5]\n"
          ]
        }
      ]
    },
    {
      "cell_type": "code",
      "source": [
        "my_list = [1, 2, 3, 4, 5]\n",
        "my_tuple = tuple(my_list)\n",
        "print(my_tuple)"
      ],
      "metadata": {
        "colab": {
          "base_uri": "https://localhost:8080/"
        },
        "id": "qz-tMaxyLvgf",
        "outputId": "538ead2b-fd2f-4fd9-cdcb-a1cf36282510"
      },
      "execution_count": 26,
      "outputs": [
        {
          "output_type": "stream",
          "name": "stdout",
          "text": [
            "(1, 2, 3, 4, 5)\n"
          ]
        }
      ]
    },
    {
      "cell_type": "code",
      "source": [
        "my_tuple = (1, 2, 3)\n",
        "a, b, c = my_tuple\n",
        "print(a)\n",
        "print(b)\n",
        "print(c)"
      ],
      "metadata": {
        "colab": {
          "base_uri": "https://localhost:8080/"
        },
        "id": "mZjIc5sgMHxu",
        "outputId": "a2baaeb3-24fc-48b5-da5a-29c65ac17e34"
      },
      "execution_count": 27,
      "outputs": [
        {
          "output_type": "stream",
          "name": "stdout",
          "text": [
            "1\n",
            "2\n",
            "3\n"
          ]
        }
      ]
    },
    {
      "cell_type": "code",
      "source": [
        "even_numbers = tuple(x for x in range(1, 11) if x % 2 == 0)\n",
        "print(even_numbers)"
      ],
      "metadata": {
        "colab": {
          "base_uri": "https://localhost:8080/"
        },
        "id": "oG19a-nbMWco",
        "outputId": "9c37e0b2-b8a7-4c26-b34a-5f48a2304c3b"
      },
      "execution_count": 28,
      "outputs": [
        {
          "output_type": "stream",
          "name": "stdout",
          "text": [
            "(2, 4, 6, 8, 10)\n"
          ]
        }
      ]
    },
    {
      "cell_type": "code",
      "source": [
        "odd_numbers = tuple(x for x in range(1, 11) if x % 2 != 0)\n",
        "print(odd_numbers)"
      ],
      "metadata": {
        "colab": {
          "base_uri": "https://localhost:8080/"
        },
        "id": "5csb8xBUMjvs",
        "outputId": "9153a3ee-dc03-4fb8-dab5-76e6e56b0bc5"
      },
      "execution_count": 29,
      "outputs": [
        {
          "output_type": "stream",
          "name": "stdout",
          "text": [
            "(1, 3, 5, 7, 9)\n"
          ]
        }
      ]
    },
    {
      "cell_type": "code",
      "source": [
        "tuple1 = (1, 2, 3)\n",
        "tuple2 = (4, 5, 6)\n",
        "concatenated_tuple = tuple1 + tuple2\n",
        "print(concatenated_tuple)"
      ],
      "metadata": {
        "colab": {
          "base_uri": "https://localhost:8080/"
        },
        "id": "IMOmoqTdMsZI",
        "outputId": "70510072-7332-4caa-be7d-60ea31bbfb4a"
      },
      "execution_count": 30,
      "outputs": [
        {
          "output_type": "stream",
          "name": "stdout",
          "text": [
            "(1, 2, 3, 4, 5, 6)\n"
          ]
        }
      ]
    },
    {
      "cell_type": "code",
      "source": [
        "my_tuple = (1, 2, 3)\n",
        "repeated_tuple = my_tuple * 3\n",
        "print(repeated_tuple)"
      ],
      "metadata": {
        "colab": {
          "base_uri": "https://localhost:8080/"
        },
        "id": "0J3KS2PXM4zn",
        "outputId": "4d05f216-ca61-48c9-b153-1031e30dfc5f"
      },
      "execution_count": 31,
      "outputs": [
        {
          "output_type": "stream",
          "name": "stdout",
          "text": [
            "(1, 2, 3, 1, 2, 3, 1, 2, 3)\n"
          ]
        }
      ]
    },
    {
      "cell_type": "code",
      "source": [
        "my_tuple = ()\n",
        "if not my_tuple:\n",
        "    print(\"Tuple is empty\")\n",
        "else:\n",
        "    print(\"Tuple is not empty\")"
      ],
      "metadata": {
        "colab": {
          "base_uri": "https://localhost:8080/"
        },
        "id": "4D9zEQEVNFC1",
        "outputId": "5038672e-d3bc-4d09-e902-0d5c395adbdb"
      },
      "execution_count": 32,
      "outputs": [
        {
          "output_type": "stream",
          "name": "stdout",
          "text": [
            "Tuple is empty\n"
          ]
        }
      ]
    },
    {
      "cell_type": "code",
      "source": [
        "nested_tuple = ((1, 2), (3, 4), (5, 6))\n",
        "print(nested_tuple)"
      ],
      "metadata": {
        "colab": {
          "base_uri": "https://localhost:8080/"
        },
        "id": "yM9j0Tu-NQkU",
        "outputId": "39989602-b706-4361-f69d-b1876606cf76"
      },
      "execution_count": 33,
      "outputs": [
        {
          "output_type": "stream",
          "name": "stdout",
          "text": [
            "((1, 2), (3, 4), (5, 6))\n"
          ]
        }
      ]
    },
    {
      "cell_type": "code",
      "source": [
        "nested_tuple = ((1, 2), (3, 4), (5, 6))\n",
        "first_element = nested_tuple[0][0]\n",
        "print(first_element)"
      ],
      "metadata": {
        "colab": {
          "base_uri": "https://localhost:8080/"
        },
        "id": "tLvIeWyGOdj8",
        "outputId": "a5b8971b-b7b2-4f03-9d14-e5b57ed8ef3d"
      },
      "execution_count": 34,
      "outputs": [
        {
          "output_type": "stream",
          "name": "stdout",
          "text": [
            "1\n"
          ]
        }
      ]
    },
    {
      "cell_type": "code",
      "source": [
        "my_tuple = (1,)\n",
        "print(my_tuple)"
      ],
      "metadata": {
        "colab": {
          "base_uri": "https://localhost:8080/"
        },
        "id": "jW-KjIDiO1px",
        "outputId": "279b00df-86ed-46db-efe4-65208cbc08b4"
      },
      "execution_count": 35,
      "outputs": [
        {
          "output_type": "stream",
          "name": "stdout",
          "text": [
            "(1,)\n"
          ]
        }
      ]
    },
    {
      "cell_type": "code",
      "source": [
        "tuple1 = (1, 2, 3)\n",
        "tuple2 = (1, 2, 4)\n",
        "\n",
        "print(tuple1 == tuple2)\n",
        "print(tuple1 < tuple2)"
      ],
      "metadata": {
        "colab": {
          "base_uri": "https://localhost:8080/"
        },
        "id": "FNuxIxGrPA6_",
        "outputId": "0650e071-7d17-4fc4-f9bb-4166e86b6194"
      },
      "execution_count": 36,
      "outputs": [
        {
          "output_type": "stream",
          "name": "stdout",
          "text": [
            "False\n",
            "True\n"
          ]
        }
      ]
    },
    {
      "cell_type": "code",
      "source": [
        "my_tuple = (1, 2, 3)\n",
        "del my_tuple\n"
      ],
      "metadata": {
        "id": "EDhEtjbaPPgl"
      },
      "execution_count": 2,
      "outputs": []
    },
    {
      "cell_type": "code",
      "source": [
        "my_tuple = (1, 2, 3, 4, 5)\n",
        "\n",
        "# Slicing from index 1 to 4\n",
        "sliced_tuple = my_tuple[1:4]\n",
        "print(sliced_tuple)  # Output: (2, 3, 4)\n",
        "\n",
        "# Slicing with a step of 2\n",
        "sliced_tuple = my_tuple[::2]\n",
        "print(sliced_tuple)"
      ],
      "metadata": {
        "colab": {
          "base_uri": "https://localhost:8080/"
        },
        "id": "B5zVg1Hitdfv",
        "outputId": "350b2118-08b6-4ddf-954e-19ab40cd38f3"
      },
      "execution_count": 3,
      "outputs": [
        {
          "output_type": "stream",
          "name": "stdout",
          "text": [
            "(2, 3, 4)\n",
            "(1, 3, 5)\n"
          ]
        }
      ]
    },
    {
      "cell_type": "code",
      "source": [
        "my_tuple = (1, 2, 3, 4, 5)\n",
        "max_value = max(my_tuple)\n",
        "print(max_value)"
      ],
      "metadata": {
        "colab": {
          "base_uri": "https://localhost:8080/"
        },
        "id": "Hvre8f6utrio",
        "outputId": "5e033577-1123-4fa0-d522-e6bed2f3489e"
      },
      "execution_count": 4,
      "outputs": [
        {
          "output_type": "stream",
          "name": "stdout",
          "text": [
            "5\n"
          ]
        }
      ]
    },
    {
      "cell_type": "code",
      "source": [
        "my_tuple = (1, 2, 3, 4, 5)\n",
        "min_value = min(my_tuple)\n",
        "print(min_value)"
      ],
      "metadata": {
        "colab": {
          "base_uri": "https://localhost:8080/"
        },
        "id": "FCatoLqUt353",
        "outputId": "28e5f9e1-9de9-42ca-951e-b6628620f631"
      },
      "execution_count": 5,
      "outputs": [
        {
          "output_type": "stream",
          "name": "stdout",
          "text": [
            "1\n"
          ]
        }
      ]
    },
    {
      "cell_type": "code",
      "source": [
        "my_string = \"hello\"\n",
        "char_tuple = tuple(my_string)\n",
        "print(char_tuple)"
      ],
      "metadata": {
        "colab": {
          "base_uri": "https://localhost:8080/"
        },
        "id": "RkqoTRDWuCxT",
        "outputId": "319c03a5-a839-4be4-b01f-a6450aef4f61"
      },
      "execution_count": 6,
      "outputs": [
        {
          "output_type": "stream",
          "name": "stdout",
          "text": [
            "('h', 'e', 'l', 'l', 'o')\n"
          ]
        }
      ]
    },
    {
      "cell_type": "code",
      "source": [
        "my_tuple = ('h', 'e', 'l', 'l', 'o')\n",
        "my_string = ''.join(my_tuple)\n",
        "print(my_string)\n"
      ],
      "metadata": {
        "colab": {
          "base_uri": "https://localhost:8080/"
        },
        "id": "1nQqtgrGvijv",
        "outputId": "74c4ff42-f2f5-4590-8765-b0c6a4030572"
      },
      "execution_count": 7,
      "outputs": [
        {
          "output_type": "stream",
          "name": "stdout",
          "text": [
            "hello\n"
          ]
        }
      ]
    },
    {
      "cell_type": "code",
      "source": [
        "my_tuple = (\"hello\", 42, True, 3.14)\n",
        "print(my_tuple)\n",
        "# Nested tuple with different data types\n",
        "nested_tuple = (\"hello\", (1, 2, 3), [4, 5, 6], {\"name\": \"John\", \"age\": 30})\n",
        "print(nested_tuple)"
      ],
      "metadata": {
        "colab": {
          "base_uri": "https://localhost:8080/"
        },
        "id": "slGGe-FZvssG",
        "outputId": "0c58020d-3f43-4e16-ed8d-e169a4c08e77"
      },
      "execution_count": 8,
      "outputs": [
        {
          "output_type": "stream",
          "name": "stdout",
          "text": [
            "('hello', 42, True, 3.14)\n",
            "('hello', (1, 2, 3), [4, 5, 6], {'name': 'John', 'age': 30})\n"
          ]
        }
      ]
    },
    {
      "cell_type": "code",
      "source": [
        "tuple1 = (1, 2, 3)\n",
        "tuple2 = (1, 2, 3)\n",
        "\n",
        "if tuple1 == tuple2:\n",
        "    print(\"The tuples are identical\")\n",
        "else:\n",
        "    print(\"The tuples are not identical\")\n"
      ],
      "metadata": {
        "colab": {
          "base_uri": "https://localhost:8080/"
        },
        "id": "inVEHsxHv4Ra",
        "outputId": "cdef0844-d1a8-4b74-dcbe-3f00a4eeffee"
      },
      "execution_count": 9,
      "outputs": [
        {
          "output_type": "stream",
          "name": "stdout",
          "text": [
            "The tuples are identical\n"
          ]
        }
      ]
    },
    {
      "cell_type": "code",
      "source": [
        "my_tuple = (3, 1, 4, 1, 5, 9, 2, 6, 5, 3, 5)\n",
        "sorted_tuple = tuple(sorted(my_tuple))\n",
        "print(sorted_tuple)\n",
        "my_tuple = (3, 1, 4, 1, 5, 9, 2, 6, 5, 3, 5)\n",
        "my_list = list(my_tuple)\n",
        "my_list.sort()\n",
        "sorted_tuple = tuple(my_list)\n",
        "print(sorted_tuple)"
      ],
      "metadata": {
        "colab": {
          "base_uri": "https://localhost:8080/"
        },
        "id": "WAd4xeyYwBdk",
        "outputId": "8952c971-a69f-44a5-c358-862ea18407d9"
      },
      "execution_count": 10,
      "outputs": [
        {
          "output_type": "stream",
          "name": "stdout",
          "text": [
            "(1, 1, 2, 3, 3, 4, 5, 5, 5, 6, 9)\n",
            "(1, 1, 2, 3, 3, 4, 5, 5, 5, 6, 9)\n"
          ]
        }
      ]
    },
    {
      "cell_type": "code",
      "source": [
        "int_tuple = (1, 2, 3, 4, 5)\n",
        "str_tuple = tuple(map(str, int_tuple))\n",
        "print(str_tuple)"
      ],
      "metadata": {
        "colab": {
          "base_uri": "https://localhost:8080/"
        },
        "id": "ZAGgelXxwNYz",
        "outputId": "3e832164-da9f-4a56-a6a3-22c0583514b7"
      },
      "execution_count": 11,
      "outputs": [
        {
          "output_type": "stream",
          "name": "stdout",
          "text": [
            "('1', '2', '3', '4', '5')\n"
          ]
        }
      ]
    },
    {
      "cell_type": "code",
      "source": [
        "str_tuple = ('1', '2', '3', '4', '5')\n",
        "int_tuple = tuple(map(int, str_tuple))\n",
        "print(int_tuple)"
      ],
      "metadata": {
        "colab": {
          "base_uri": "https://localhost:8080/"
        },
        "id": "En8oaEEAwXP9",
        "outputId": "5f816af4-0a2e-4fd3-efde-bbdee01c586d"
      },
      "execution_count": 12,
      "outputs": [
        {
          "output_type": "stream",
          "name": "stdout",
          "text": [
            "(1, 2, 3, 4, 5)\n"
          ]
        }
      ]
    },
    {
      "cell_type": "code",
      "source": [
        "tuple1 = (1, 2, 3)\n",
        "tuple2 = ('a', 'b', 'c')\n",
        "merged_tuple = tuple1 + tuple2\n",
        "print(merged_tuple)"
      ],
      "metadata": {
        "colab": {
          "base_uri": "https://localhost:8080/"
        },
        "id": "CNp3-v9RwfYy",
        "outputId": "da837830-c643-4e21-b8e8-1daf976d0594"
      },
      "execution_count": 13,
      "outputs": [
        {
          "output_type": "stream",
          "name": "stdout",
          "text": [
            "(1, 2, 3, 'a', 'b', 'c')\n"
          ]
        }
      ]
    },
    {
      "cell_type": "code",
      "source": [
        "def flatten_tuples(t):\n",
        "    for x in t:\n",
        "        if isinstance(x, tuple):\n",
        "            yield from flatten_tuples(x)\n",
        "        else:\n",
        "            yield x\n",
        "\n",
        "# Example\n",
        "nested_tuple = ((1, 2), (3, (4, 5)))\n",
        "flattened_tuple = tuple(flatten_tuples(nested_tuple))\n",
        "print(flattened_tuple)"
      ],
      "metadata": {
        "colab": {
          "base_uri": "https://localhost:8080/"
        },
        "id": "rxEtfUxhwnmy",
        "outputId": "cf911b79-1d3f-4e89-ca00-8fee95ffaffe"
      },
      "execution_count": 14,
      "outputs": [
        {
          "output_type": "stream",
          "name": "stdout",
          "text": [
            "(1, 2, 3, 4, 5)\n"
          ]
        }
      ]
    },
    {
      "cell_type": "code",
      "source": [
        "prime_numbers = (2, 3, 5, 7, 11)\n",
        "print(prime_numbers)"
      ],
      "metadata": {
        "colab": {
          "base_uri": "https://localhost:8080/"
        },
        "id": "8m4g0_65wwJx",
        "outputId": "536a6eea-5281-4bb2-9817-d7c6c642f4f7"
      },
      "execution_count": 15,
      "outputs": [
        {
          "output_type": "stream",
          "name": "stdout",
          "text": [
            "(2, 3, 5, 7, 11)\n"
          ]
        }
      ]
    },
    {
      "cell_type": "code",
      "source": [
        "def is_palindrome(tuple):\n",
        "    tuple_str = str(tuple)\n",
        "    reversed_tuple_str = tuple_str[::-1]\n",
        "    return tuple_str == reversed_tuple_str\n",
        "\n",
        "# Example\n",
        "my_tuple = (1, 2, 3, 2, 1)\n",
        "if is_palindrome(my_tuple):\n",
        "    print(\"The tuple is a palindrome\")\n",
        "else:\n",
        "    print(\"The tuple is not a palindrome\")"
      ],
      "metadata": {
        "colab": {
          "base_uri": "https://localhost:8080/"
        },
        "id": "rysoZyHBw7Hv",
        "outputId": "95554add-13e9-443a-8bf4-3c03a5107807"
      },
      "execution_count": 16,
      "outputs": [
        {
          "output_type": "stream",
          "name": "stdout",
          "text": [
            "The tuple is not a palindrome\n"
          ]
        }
      ]
    },
    {
      "cell_type": "code",
      "source": [
        "squared_tuple = tuple(x**2 for x in range(1, 6))\n",
        "print(squared_tuple)"
      ],
      "metadata": {
        "colab": {
          "base_uri": "https://localhost:8080/"
        },
        "id": "i3ydPNiyxC8Q",
        "outputId": "fdb30266-62dd-4f5e-c88c-c9631325a56b"
      },
      "execution_count": 17,
      "outputs": [
        {
          "output_type": "stream",
          "name": "stdout",
          "text": [
            "(1, 4, 9, 16, 25)\n"
          ]
        }
      ]
    },
    {
      "cell_type": "code",
      "source": [
        "import random\n",
        "random_tuple = tuple(random.random() for _ in range(5))\n",
        "print(random_tuple)\n"
      ],
      "metadata": {
        "colab": {
          "base_uri": "https://localhost:8080/"
        },
        "id": "D86bAfHAxMMa",
        "outputId": "8e7e6ca4-a309-4ca2-8f04-63ca94f3e77a"
      },
      "execution_count": 18,
      "outputs": [
        {
          "output_type": "stream",
          "name": "stdout",
          "text": [
            "(0.5892782358213517, 0.3131850837950897, 0.4664113372524006, 0.19022548813786366, 0.5272802127374638)\n"
          ]
        }
      ]
    },
    {
      "cell_type": "code",
      "source": [
        "def is_sorted(t):\n",
        "    return all(t[i] <= t[i + 1] for i in range(len(t) - 1))\n",
        "\n",
        "# Example\n",
        "sorted_tuple = (1, 2, 3, 4, 5)\n",
        "unsorted_tuple = (5, 2, 8, 1, 3)\n",
        "\n",
        "print(is_sorted(sorted_tuple))\n",
        "print(is_sorted(unsorted_tuple))\n"
      ],
      "metadata": {
        "colab": {
          "base_uri": "https://localhost:8080/"
        },
        "id": "BomXq9iExYls",
        "outputId": "dfa7bad0-f901-4a69-e8ac-c90b14c06628"
      },
      "execution_count": 19,
      "outputs": [
        {
          "output_type": "stream",
          "name": "stdout",
          "text": [
            "True\n",
            "False\n"
          ]
        }
      ]
    },
    {
      "cell_type": "code",
      "source": [
        "def rotate_left(t, n):\n",
        "    return t[n:] + t[:n]\n",
        "\n",
        "# Example\n",
        "my_tuple = (1, 2, 3, 4, 5)\n",
        "rotated_tuple = rotate_left(my_tuple, 2)\n",
        "print(rotated_tuple)"
      ],
      "metadata": {
        "colab": {
          "base_uri": "https://localhost:8080/"
        },
        "id": "l35zsfzTxi8c",
        "outputId": "a7d5017e-54ae-48d1-fce1-adf814402086"
      },
      "execution_count": 20,
      "outputs": [
        {
          "output_type": "stream",
          "name": "stdout",
          "text": [
            "(3, 4, 5, 1, 2)\n"
          ]
        }
      ]
    },
    {
      "cell_type": "code",
      "source": [
        "def rotate_right(t, n):\n",
        "    return t[-n:] + t[:-n]\n",
        "\n",
        "# Example\n",
        "my_tuple = (1, 2, 3, 4, 5)\n",
        "rotated_tuple = rotate_right(my_tuple, 2)\n",
        "print(rotated_tuple)"
      ],
      "metadata": {
        "colab": {
          "base_uri": "https://localhost:8080/"
        },
        "id": "_PgPo4GSxqvw",
        "outputId": "2491e7f4-3b34-4ea9-c423-b650d017ea4b"
      },
      "execution_count": 21,
      "outputs": [
        {
          "output_type": "stream",
          "name": "stdout",
          "text": [
            "(4, 5, 1, 2, 3)\n"
          ]
        }
      ]
    },
    {
      "cell_type": "code",
      "source": [
        "def generate_fibonacci_sequence(n):\n",
        "    fibonacci = [0, 1]\n",
        "    for i in range(2, n):\n",
        "        next_fib = fibonacci[-1] + fibonacci[-2]\n",
        "        fibonacci.append(next_fib)\n",
        "    return tuple(fibonacci[:n])\n",
        "\n",
        "# Create a tuple of the first 5 Fibonacci numbers\n",
        "fibonacci_tuple = generate_fibonacci_sequence(5)\n",
        "print(fibonacci_tuple)"
      ],
      "metadata": {
        "colab": {
          "base_uri": "https://localhost:8080/"
        },
        "id": "UrqVZmkzxyXB",
        "outputId": "a8f39062-13f2-4417-93ee-d01bac23ea48"
      },
      "execution_count": 22,
      "outputs": [
        {
          "output_type": "stream",
          "name": "stdout",
          "text": [
            "(0, 1, 1, 2, 3)\n"
          ]
        }
      ]
    },
    {
      "cell_type": "code",
      "source": [
        "# Get user input\n",
        "user_input = input(\"Enter elements separated by commas: \")\n",
        "\n",
        "# Convert the input string to a tuple\n",
        "user_tuple = tuple(map(int, user_input.split(\",\")))\n",
        "\n",
        "# Print the tuple\n",
        "print(user_tuple)\n",
        "\n"
      ],
      "metadata": {
        "colab": {
          "base_uri": "https://localhost:8080/"
        },
        "id": "L-QIDTPUx58Z",
        "outputId": "0bb349c9-c424-4fbd-8198-166772db8323"
      },
      "execution_count": 23,
      "outputs": [
        {
          "output_type": "stream",
          "name": "stdout",
          "text": [
            "Enter elements separated by commas: 4\n",
            "(4,)\n"
          ]
        }
      ]
    },
    {
      "cell_type": "code",
      "source": [
        "# Define a tuple\n",
        "my_tuple = (1, 2, 3, 4, 5)\n",
        "\n",
        "# Convert the tuple to a list\n",
        "my_list = list(my_tuple)\n",
        "\n",
        "# Swap the elements\n",
        "my_list[1], my_list[3] = my_list[3], my_list[1]\n",
        "\n",
        "# Convert the list back to a tuple\n",
        "my_tuple = tuple(my_list)\n",
        "\n",
        "# Print the tuple\n",
        "print(my_tuple)"
      ],
      "metadata": {
        "colab": {
          "base_uri": "https://localhost:8080/"
        },
        "id": "VriidCYRyBKd",
        "outputId": "28a3c752-383d-4f71-df35-9b951b4cc93b"
      },
      "execution_count": 24,
      "outputs": [
        {
          "output_type": "stream",
          "name": "stdout",
          "text": [
            "(1, 4, 3, 2, 5)\n"
          ]
        }
      ]
    },
    {
      "cell_type": "code",
      "source": [
        "\n",
        "my_tuple = (1, 2, 3, 4, 5)\n",
        "reversed_tuple = tuple(reversed(my_tuple))\n",
        "print(reversed_tuple)"
      ],
      "metadata": {
        "colab": {
          "base_uri": "https://localhost:8080/"
        },
        "id": "A8X2OKKLyPpr",
        "outputId": "ecd77b1c-c45f-42c6-d27c-c697830f54cd"
      },
      "execution_count": 26,
      "outputs": [
        {
          "output_type": "stream",
          "name": "stdout",
          "text": [
            "(5, 4, 3, 2, 1)\n"
          ]
        }
      ]
    },
    {
      "cell_type": "code",
      "source": [
        "# Create a tuple of the first n powers of 2\n",
        "n = 5\n",
        "powers_of_2_tuple = tuple(2**i for i in range(1, n+1))\n",
        "print(powers_of_2_tuple)"
      ],
      "metadata": {
        "colab": {
          "base_uri": "https://localhost:8080/"
        },
        "id": "zJmCNN-FyX6R",
        "outputId": "0485d2ba-75b4-4345-e61f-b956f433761b"
      },
      "execution_count": 27,
      "outputs": [
        {
          "output_type": "stream",
          "name": "stdout",
          "text": [
            "(2, 4, 8, 16, 32)\n"
          ]
        }
      ]
    },
    {
      "cell_type": "code",
      "source": [
        "# Define a tuple of strings\n",
        "my_tuple = (\"apple\", \"banana\", \"watermelon\", \"orange\")\n",
        "\n",
        "# Find the longest string in the tuple\n",
        "longest_string = max(my_tuple, key=len)\n",
        "\n",
        "# Print the longest string\n",
        "print(\"The longest string is:\", longest_string)\n"
      ],
      "metadata": {
        "colab": {
          "base_uri": "https://localhost:8080/"
        },
        "id": "NzYa3YoUymMT",
        "outputId": "d10fb6d3-f975-40a1-a61e-d369a0317ec7"
      },
      "execution_count": 28,
      "outputs": [
        {
          "output_type": "stream",
          "name": "stdout",
          "text": [
            "The longest string is: watermelon\n"
          ]
        }
      ]
    },
    {
      "cell_type": "code",
      "source": [
        "# Define a tuple of strings\n",
        "my_tuple = (\"apple\", \"banana\", \"watermelon\", \"orange\")\n",
        "\n",
        "# Find the shortest string in the tuple\n",
        "shortest_string = min(my_tuple, key=len)\n",
        "\n",
        "# Print the shortest string\n",
        "print(\"The shortest string is:\", shortest_string)\n"
      ],
      "metadata": {
        "colab": {
          "base_uri": "https://localhost:8080/"
        },
        "id": "3LhZm8ify0AD",
        "outputId": "f924ed8e-dc83-4c78-a54c-c79c9d87f6fb"
      },
      "execution_count": 29,
      "outputs": [
        {
          "output_type": "stream",
          "name": "stdout",
          "text": [
            "The shortest string is: apple\n"
          ]
        }
      ]
    },
    {
      "cell_type": "code",
      "source": [
        "# Create a tuple of alternating 1s and 0s of length n\n",
        "n = 5\n",
        "alternating_tuple = tuple(1 if i % 2 == 0 else 0 for i in range(n))\n",
        "print(alternating_tuple)"
      ],
      "metadata": {
        "colab": {
          "base_uri": "https://localhost:8080/"
        },
        "id": "74-7gPsXy7lu",
        "outputId": "2eb4134f-09f1-4065-bbba-4f78da750d1f"
      },
      "execution_count": 30,
      "outputs": [
        {
          "output_type": "stream",
          "name": "stdout",
          "text": [
            "(1, 0, 1, 0, 1)\n"
          ]
        }
      ]
    },
    {
      "cell_type": "code",
      "source": [],
      "metadata": {
        "id": "OAP8X-mYzFV1"
      },
      "execution_count": null,
      "outputs": []
    }
  ]
}